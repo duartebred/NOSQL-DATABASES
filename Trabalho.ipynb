{
 "cells": [
  {
   "cell_type": "markdown",
   "metadata": {},
   "source": [
    "# NOSQL - Trabalho prátrico\n",
    "\n",
    "Adicionar descrição/introdução\n"
   ]
  },
  {
   "cell_type": "markdown",
   "metadata": {},
   "source": [
    "## Informação relativa à base de dados\n",
    "\n",
    "- database:trabalho_pratico\n",
    "- username: nosql\n",
    "- password: nosql2024\n"
   ]
  },
  {
   "cell_type": "markdown",
   "metadata": {},
   "source": [
    "Identificaram-se 4 coleções: ....\n",
    "\n",
    "A etapa inicial do trabalho consistiu em estabelecer uma conexão entre o Python e a base de dados Oracle. Isso implicou a especificação do utilizador, palavra-passe, anfitrião, porta e SID do Oracle, previamente definidos. Assim, tornou-se possível executar consultas e recuperar dados da base de dados, possibilitando a visualização de todas as informações lá contidas."
   ]
  },
  {
   "cell_type": "markdown",
   "metadata": {},
   "source": [
    "# Librarias e packages necessários"
   ]
  },
  {
   "cell_type": "code",
   "execution_count": 17,
   "metadata": {},
   "outputs": [],
   "source": [
    "#pip install pymongo\n",
    "#pip install cx_Oracle\n",
    "#pip install oracledb\n",
    "#pip install mysql-connector-python"
   ]
  },
  {
   "cell_type": "markdown",
   "metadata": {},
   "source": [
    "# Introdução"
   ]
  },
  {
   "cell_type": "markdown",
   "metadata": {},
   "source": [
    "A base deste trabalho é um conjunto de 17 tabelas que retratam um Hospital. \n",
    "\n",
    "O objetivo principal deste trabalho passa por explorar diferentes paradigmas de base de dados, tendo como referências dois tipos de modelos, um modelo relacional e um modelo não relacional. \n",
    "\n",
    "Em particular, o modelo não relacional será o mais explorado, sendo que, com auxílio de código (maioritariamente em python) iremos, através de uma estratégia definida e explicada posteriormente, \"converter\" o modelo relacional já dado em modelos não relacionais explorando as bases de dados MongoDB e Neo4j e seus respetivos paradigmas. "
   ]
  },
  {
   "cell_type": "code",
   "execution_count": 52,
   "metadata": {},
   "outputs": [],
   "source": [
    "import oracledb\n",
    "import getpass\n",
    "import cx_Oracle\n",
    "\n",
    "# Pedir senha\n",
    "#password = getpass.getpass(prompt=\"Enter Oracle password: \")\n",
    "\n",
    "# Conectar ao Oracle\n",
    "#connection = oracledb.connect(user=\"nosql\", password=password, dsn=\"localhost/xe\")\n",
    "#cursor = connection.cursor()"
   ]
  },
  {
   "cell_type": "code",
   "execution_count": 62,
   "metadata": {},
   "outputs": [],
   "source": [
    "#MACM1 Rodrigo\n",
    "\n",
    "connection = oracledb.connect(user=\"EU\", password=\"12345678\", dsn=\"localhost/ORCLCDB\")\n",
    "cursor = connection.cursor()"
   ]
  },
  {
   "cell_type": "markdown",
   "metadata": {},
   "source": [
    " # MONGO"
   ]
  },
  {
   "cell_type": "markdown",
   "metadata": {},
   "source": [
    "### Pacientes"
   ]
  },
  {
   "cell_type": "code",
   "execution_count": 63,
   "metadata": {},
   "outputs": [],
   "source": [
    "import pymongo\n",
    "from pymongo import MongoClient\n",
    "\n",
    "client = MongoClient(\"localhost\", 27017)\n",
    "db = client.Hospital\n",
    "\n",
    "#Patients = db.create_collection(\"Patients\")\n",
    "#Services = db.create_collection(\"Services\")\n",
    "#Appointments = db.create_collection(\"Appointments\")\n",
    "#Staff = db.create_collection(\"Staff\")\n",
    "\n",
    "collection_P = db.Patients\n",
    "\n"
   ]
  },
  {
   "cell_type": "code",
   "execution_count": null,
   "metadata": {},
   "outputs": [],
   "source": [
    "#PATIENTS\n",
    "\n",
    "import mysql.connector\n",
    "\n",
    "query= \"SELECT * FROM PATIENT P, INSURANCE I, MEDICAL_HISTORY MH, EMERGENCY_CONTACT EC WHERE P.POLICY_NUMBER = I.POLICY_NUMBER AND P.IDPATIENT = MH.IDPATIENT AND P.IDPATIENT = EC.IDPATIENT \"\n",
    "\n",
    "cursor.execute(query)\n",
    "res = cursor.fetchall()\n",
    "for row in res:\n",
    "    print(cursor.description)\n",
    "    document = dict(zip([column[0] for column in res.description], row))\n",
    "    collection_P.insert_one(document)\n",
    "\n",
    "cursor.close()\n",
    "connection.close()\n",
    "client.close()"
   ]
  },
  {
   "cell_type": "code",
   "execution_count": 1,
   "metadata": {},
   "outputs": [],
   "source": [
    "#### Parte do Duarte"
   ]
  },
  {
   "cell_type": "markdown",
   "metadata": {},
   "source": [
    "### Atendimento"
   ]
  },
  {
   "cell_type": "code",
   "execution_count": null,
   "metadata": {},
   "outputs": [],
   "source": [
    "def extract_data_from_oracle():\n",
    "\n",
    "    # Pedir senha\n",
    "    password = getpass.getpass(prompt=\"Enter Oracle password: \")\n",
    "\n",
    "    # Conectar ao Oracle\n",
    "    connection = oracledb.connect(user=\"nosql\", password=password, dsn=\"localhost/xe\")\n",
    "    cursor = connection.cursor()\n",
    "\n",
    "# Consulta SQL para extrair os dados de HOSPITAL_EPISODE\n",
    "    sql_episode = \"\"\"\n",
    "        SELECT \n",
    "            idepisode,\n",
    "            patient_idpatient\n",
    "        FROM \n",
    "            episode\n",
    "    \"\"\"\n",
    "    cursor.execute(sql_episode)\n",
    "    episodes = cursor.fetchall()\n",
    "\n",
    "# Consulta SQL para extrair os dados de HOSPITAL_ROOM\n",
    "    sql_room = \"\"\"\n",
    "        SELECT \n",
    "            idroom,\n",
    "            room_type,\n",
    "            room_cost\n",
    "        FROM \n",
    "            room\n",
    "    \"\"\"\n",
    "    cursor.execute(sql_room)\n",
    "    rooms = cursor.fetchall()\n",
    " # Consulta SQL para extrair os dados de HOSPITAL_BILL\n",
    "    sql_bill = \"\"\"\n",
    "        SELECT \n",
    "            idbill,\n",
    "            room_cost,\n",
    "            test_cost,\n",
    "            other_charges,\n",
    "            total,\n",
    "            idepisode,\n",
    "            registered_at,\n",
    "            payment_status\n",
    "        FROM \n",
    "            bill\n",
    "    \"\"\"\n",
    "    cursor.execute(sql_bill)\n",
    "    bills = cursor.fetchall()\n",
    "\n",
    "    # Consulta SQL para extrair os dados de HOSPITAL_LAB_SCREENING\n",
    "    sql_lab_screening = \"\"\"\n",
    "        SELECT \n",
    "            lab_id,\n",
    "            test_cost,\n",
    "            test_date,\n",
    "            idtechnician,\n",
    "            episode_idepisode\n",
    "        FROM \n",
    "            lab_screening\n",
    "    \"\"\"\n",
    "    cursor.execute(sql_lab_screening)\n",
    "    lab_screenings = cursor.fetchall()\n",
    "\n",
    "    # Fechar conexão\n",
    "    cursor.close()\n",
    "    connection.close()\n",
    "\n",
    "    # Inserir os dados na coleção MongoDB\n",
    "    insert_data_to_mongodb(episodes, rooms, bills, lab_screenings)"
   ]
  },
  {
   "cell_type": "code",
   "execution_count": null,
   "metadata": {},
   "outputs": [],
   "source": [
    "# Função para inserir os dados no MongoDB\n",
    "def insert_data_to_mongodb(episodes, rooms, bills, lab_screenings):\n",
    "    \n",
    "    # Conectar ao MongoDB\n",
    "    client = MongoClient('mongodb://localhost:27017/')\n",
    "    db = client['nosql']  # Substitua 'nome_do_banco_de_dados' pelo nome do seu banco de dados no MongoDB\n",
    "    collection = db['Appointments']\n",
    "\n",
    "    # Formatar os dados e inserir na coleção MongoDB\n",
    "    for episode in episodes:\n",
    "        episode_data = {\n",
    "            \"idepisode\": episode[0],\n",
    "            \"patient_idpatient\": episode[1],\n",
    "            # Adicione outros campos conforme necessário\n",
    "        }\n",
    "        collection.insert_one(episode_data)\n",
    "\n",
    "    for room in rooms:\n",
    "        room_data = {\n",
    "            \"idroom\": room[0],\n",
    "            \"room_type\": room[1],\n",
    "            \"room_cost\": room[2],\n",
    "            # Adicione outros campos conforme necessário\n",
    "        }\n",
    "        collection.insert_one(room_data)\n",
    "\n",
    "    for bill in bills:\n",
    "        bill_data = {\n",
    "            \"idbill\": bill[0],\n",
    "            \"room_cost\": bill[1],\n",
    "            \"test_cost\": bill[2],\n",
    "            \"other_charges\": bill[3],\n",
    "            \"total\": bill[4],\n",
    "            \"idepisode\": bill[5],\n",
    "            \"registered_at\": bill[6],\n",
    "            \"payment_status\": bill[7],\n",
    "            # Adicione outros campos conforme necessário\n",
    "        }\n",
    "        collection.insert_one(bill_data)\n",
    "\n",
    "    for lab_screening in lab_screenings:\n",
    "        lab_screening_data = {\n",
    "            \"lab_id\": lab_screening[0],\n",
    "            \"test_cost\": lab_screening[1],\n",
    "            \"test_date\": lab_screening[2],\n",
    "            \"idtechnician\": lab_screening[3],\n",
    "            \"episode_idepisode\": lab_screening[4],\n",
    "            # Adicione outros campos conforme necessário\n",
    "        }\n",
    "        collection.insert_one(lab_screening_data)\n",
    "\n",
    "    # Fechar conexão\n",
    "    client.close()\n",
    "\n",
    "# Chamar a função principal para extrair dados do Oracle e inseri-los no MongoDB\n",
    "extract_data_from_oracle()"
   ]
  },
  {
   "cell_type": "markdown",
   "metadata": {},
   "source": [
    "### "
   ]
  }
 ],
 "metadata": {
  "kernelspec": {
   "display_name": "Python 3",
   "language": "python",
   "name": "python3"
  },
  "language_info": {
   "codemirror_mode": {
    "name": "ipython",
    "version": 3
   },
   "file_extension": ".py",
   "mimetype": "text/x-python",
   "name": "python",
   "nbconvert_exporter": "python",
   "pygments_lexer": "ipython3",
   "version": "3.10.11"
  }
 },
 "nbformat": 4,
 "nbformat_minor": 2
}
