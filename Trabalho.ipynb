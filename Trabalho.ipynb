{
 "cells": [
  {
   "cell_type": "markdown",
   "metadata": {},
   "source": [
    "# NOSQL - Trabalho prátrico\n",
    "\n",
    "Adicionar descrição/introdução\n"
   ]
  },
  {
   "cell_type": "markdown",
   "metadata": {},
   "source": [
    "## Informação relativa à base de dados\n",
    "\n",
    "- database:trabalho_pratico\n",
    "- username: nosql\n",
    "- password: nosql2024\n"
   ]
  },
  {
   "cell_type": "markdown",
   "metadata": {},
   "source": [
    "Identificaram-se 4 coleções: ....\n",
    "\n",
    "A etapa inicial do trabalho consistiu em estabelecer uma conexão entre o Python e a base de dados Oracle. Isso implicou a especificação do utilizador, palavra-passe, anfitrião, porta e SID do Oracle, previamente definidos. Assim, tornou-se possível executar consultas e recuperar dados da base de dados, possibilitando a visualização de todas as informações lá contidas."
   ]
  },
  {
   "cell_type": "code",
   "execution_count": 2,
   "metadata": {},
   "outputs": [],
   "source": [
    "import oracledb\n",
    "import getpass\n",
    "\n",
    "# Pedir senha\n",
    "password = getpass.getpass(prompt=\"Enter Oracle password: \")\n",
    "\n",
    "# Conectar ao Oracle\n",
    "connection = oracledb.connect(user=\"nosql\", password=password, dsn=\"localhost/xe\")\n",
    "cursor = connection.cursor()"
   ]
  },
  {
   "cell_type": "code",
   "execution_count": null,
   "metadata": {},
   "outputs": [],
   "source": []
  }
 ],
 "metadata": {
  "kernelspec": {
   "display_name": "Python 3",
   "language": "python",
   "name": "python3"
  },
  "language_info": {
   "codemirror_mode": {
    "name": "ipython",
    "version": 3
   },
   "file_extension": ".py",
   "mimetype": "text/x-python",
   "name": "python",
   "nbconvert_exporter": "python",
   "pygments_lexer": "ipython3",
   "version": "3.10.11"
  }
 },
 "nbformat": 4,
 "nbformat_minor": 2
}
