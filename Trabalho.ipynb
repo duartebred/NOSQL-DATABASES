{
 "cells": [
  {
   "cell_type": "markdown",
   "metadata": {},
   "source": [
    "# NOSQL - Trabalho prátrico\n",
    "\n",
    "Adicionar descrição/introdução\n"
   ]
  },
  {
   "cell_type": "markdown",
   "metadata": {},
   "source": [
    "## Informação relativa à base de dados\n",
    "\n",
    "- database:trabalho_pratico\n",
    "- username: nosql\n",
    "- password: nosql2024\n"
   ]
  },
  {
   "cell_type": "markdown",
   "metadata": {},
   "source": [
    "Identificaram-se 4 coleções: ....\n",
    "\n",
    "A etapa inicial do trabalho consistiu em estabelecer uma conexão entre o Python e a base de dados Oracle. Isso implicou a especificação do utilizador, palavra-passe, anfitrião, porta e SID do Oracle, previamente definidos. Assim, tornou-se possível executar consultas e recuperar dados da base de dados, possibilitando a visualização de todas as informações lá contidas."
   ]
  },
  {
   "cell_type": "markdown",
   "metadata": {},
   "source": [
    "# Librarias e packages necessários"
   ]
  },
  {
   "cell_type": "code",
   "execution_count": 17,
   "metadata": {},
   "outputs": [],
   "source": [
    "#pip install pymongo\n",
    "#pip install cx_Oracle\n",
    "#pip install oracledb\n",
    "#pip install mysql-connector-python"
   ]
  },
  {
   "cell_type": "markdown",
   "metadata": {},
   "source": [
    "# Introdução"
   ]
  },
  {
   "cell_type": "markdown",
   "metadata": {},
   "source": [
    "A base deste trabalho é um conjunto de 17 tabelas que retratam um Hospital. \n",
    "\n",
    "O objetivo principal deste trabalho passa por explorar diferentes paradigmas de base de dados, tendo como referências dois tipos de modelos, um modelo relacional e um modelo não relacional. \n",
    "\n",
    "Em particular, o modelo não relacional será o mais explorado, sendo que, com auxílio de código (maioritariamente em python) iremos, através de uma estratégia definida e explicada posteriormente, \"converter\" o modelo relacional já dado em modelos não relacionais explorando as bases de dados MongoDB e Neo4j e seus respetivos paradigmas. "
   ]
  },
  {
   "cell_type": "code",
   "execution_count": 52,
   "metadata": {},
   "outputs": [],
   "source": [
    "import oracledb\n",
    "import getpass\n",
    "import cx_Oracle\n",
    "\n",
    "# Pedir senha\n",
    "#password = getpass.getpass(prompt=\"Enter Oracle password: \")\n",
    "\n",
    "# Conectar ao Oracle\n",
    "#connection = oracledb.connect(user=\"nosql\", password=password, dsn=\"localhost/xe\")\n",
    "#cursor = connection.cursor()"
   ]
  },
  {
   "cell_type": "code",
   "execution_count": 62,
   "metadata": {},
   "outputs": [],
   "source": [
    "#MACM1 Rodrigo\n",
    "\n",
    "connection = oracledb.connect(user=\"EU\", password=\"12345678\", dsn=\"localhost/ORCLCDB\")\n",
    "cursor = connection.cursor()"
   ]
  },
  {
   "cell_type": "markdown",
   "metadata": {},
   "source": [
    " # MONGO"
   ]
  },
  {
   "cell_type": "code",
   "execution_count": 63,
   "metadata": {},
   "outputs": [],
   "source": [
    "import pymongo\n",
    "from pymongo import MongoClient\n",
    "\n",
    "client = MongoClient(\"localhost\", 27017)\n",
    "db = client.Hospital\n",
    "\n",
    "#Patients = db.create_collection(\"Patients\")\n",
    "#Services = db.create_collection(\"Services\")\n",
    "#Appointments = db.create_collection(\"Appointments\")\n",
    "#Staff = db.create_collection(\"Staff\")\n",
    "\n",
    "collection_P = db.Patients\n",
    "\n"
   ]
  },
  {
   "cell_type": "code",
   "execution_count": null,
   "metadata": {},
   "outputs": [],
   "source": [
    "#PATIENTS\n",
    "\n",
    "import mysql.connector\n",
    "\n",
    "query= \"SELECT * FROM PATIENT P, INSURANCE I, MEDICAL_HISTORY MH, EMERGENCY_CONTACT EC WHERE P.POLICY_NUMBER = I.POLICY_NUMBER AND P.IDPATIENT = MH.IDPATIENT AND P.IDPATIENT = EC.IDPATIENT \"\n",
    "\n",
    "cursor.execute(query)\n",
    "res = cursor.fetchall()\n",
    "for row in res:\n",
    "    print(cursor.description)\n",
    "    document = dict(zip([column[0] for column in res.description], row))\n",
    "    collection_P.insert_one(document)\n",
    "\n",
    "cursor.close()\n",
    "connection.close()\n",
    "client.close()"
   ]
  }
 ],
 "metadata": {
  "kernelspec": {
   "display_name": "Python 3",
   "language": "python",
   "name": "python3"
  },
  "language_info": {
   "codemirror_mode": {
    "name": "ipython",
    "version": 3
   },
   "file_extension": ".py",
   "mimetype": "text/x-python",
   "name": "python",
   "nbconvert_exporter": "python",
   "pygments_lexer": "ipython3",
   "version": "3.12.2"
  }
 },
 "nbformat": 4,
 "nbformat_minor": 2
}
